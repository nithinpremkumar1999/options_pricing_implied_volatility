{
 "cells": [
  {
   "cell_type": "code",
   "execution_count": 34,
   "metadata": {},
   "outputs": [],
   "source": [
    "import scipy.optimize as spo"
   ]
  },
  {
   "cell_type": "code",
   "execution_count": 35,
   "metadata": {},
   "outputs": [],
   "source": [
    "def f(xy):\n",
    "    x = xy[0]\n",
    "    y = xy[1]\n",
    "\n",
    "    area = x*y\n",
    "\n",
    "    return -area"
   ]
  },
  {
   "cell_type": "code",
   "execution_count": 36,
   "metadata": {},
   "outputs": [],
   "source": [
    "xy_start = [50, 50]"
   ]
  },
  {
   "cell_type": "code",
   "execution_count": 37,
   "metadata": {},
   "outputs": [],
   "source": [
    "cons = ({'type':'eq', 'fun': lambda xy: (2*xy[0]) + xy[1] - 100})"
   ]
  },
  {
   "cell_type": "code",
   "execution_count": 38,
   "metadata": {},
   "outputs": [],
   "source": [
    "bnds = ((1, 100), (1, 30))"
   ]
  },
  {
   "cell_type": "code",
   "execution_count": 39,
   "metadata": {},
   "outputs": [
    {
     "name": "stdout",
     "output_type": "stream",
     "text": [
      "Success: x = 35.00000000000246, y = 29.99999999999508\n"
     ]
    }
   ],
   "source": [
    "result = spo.minimize(f, xy_start, constraints=cons, bounds=bnds)\n",
    "if result.success:\n",
    "    xy = result.x\n",
    "    x, y = xy[0], xy[1]\n",
    "    print(f\"Success: x = {x}, y = {y}\")\n",
    "else:\n",
    "    print(f\"Failed\")"
   ]
  }
 ],
 "metadata": {
  "kernelspec": {
   "display_name": ".venv",
   "language": "python",
   "name": "python3"
  },
  "language_info": {
   "codemirror_mode": {
    "name": "ipython",
    "version": 3
   },
   "file_extension": ".py",
   "mimetype": "text/x-python",
   "name": "python",
   "nbconvert_exporter": "python",
   "pygments_lexer": "ipython3",
   "version": "3.9.13"
  }
 },
 "nbformat": 4,
 "nbformat_minor": 2
}
